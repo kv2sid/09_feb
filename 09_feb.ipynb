{
 "cells": [
  {
   "cell_type": "markdown",
   "id": "b6fac14c-7f99-44e1-9365-5f5ebe2d6308",
   "metadata": {},
   "source": [
    "Q1, Create a vehicle class with an init method having instance variables as name_of_vehicle, max_speed\n",
    "and average_of_vehicle."
   ]
  },
  {
   "cell_type": "code",
   "execution_count": 2,
   "id": "f7007c83-cf5e-4056-bce4-0c03620a0c30",
   "metadata": {},
   "outputs": [
    {
     "name": "stdout",
     "output_type": "stream",
     "text": [
      "Mahindra Thar has max speed of 90 kmph and the average speed of 50 kmph.\n"
     ]
    }
   ],
   "source": [
    "class vehicle:\n",
    "    def __init__(self, name, max_speed, average_speed):\n",
    "        self.name = name\n",
    "        self.max_speed = max_speed\n",
    "        self.average_speed = average_speed\n",
    "    def vehi_descr(self):\n",
    "        print(self.name,'has max speed of', self.max_speed,'kmph and the average speed of', self.average_speed,'kmph.')\n",
    "\n",
    "\n",
    "p = vehicle('Mahindra Thar', 90, 50)\n",
    "p.vehi_descr()\n"
   ]
  },
  {
   "cell_type": "code",
   "execution_count": 13,
   "id": "39deb9ad-5939-4cc9-b5b8-b3ac1e9ed62c",
   "metadata": {},
   "outputs": [
    {
     "name": "stdout",
     "output_type": "stream",
     "text": [
      "Tata e nano has max speed of 70 kmph and the average speed of 40 kmph.\n"
     ]
    }
   ],
   "source": [
    "s=vehicle('Tata e nano', 70, 40)\n",
    "s.vehi_descr()"
   ]
  },
  {
   "cell_type": "markdown",
   "id": "e705b27f-6d0d-4127-8657-c4f31a6fb6b3",
   "metadata": {},
   "source": [
    "Q2. Create a child class car from the vehicle class created in Que 1, which will inherit the vehicle class.\n",
    "Create a method named seating_capacity which takes capacity as an argument and returns the name of\n",
    "the vehicle and its seating capacity."
   ]
  },
  {
   "cell_type": "code",
   "execution_count": 46,
   "id": "265171bb-9a26-4ab6-a1d0-7cb0f5f6e8a1",
   "metadata": {
    "tags": []
   },
   "outputs": [
    {
     "name": "stdout",
     "output_type": "stream",
     "text": [
      "Mahindra has max speed of 80 kmph and the average speed of 50 kmph.\n",
      "The seating_capacity in the Mahindra Thar is 5\n"
     ]
    }
   ],
   "source": [
    "# Define the child class\n",
    "class seat_capacity(vehicle):\n",
    "    def __init__(self, name, max_speed, average_speed,seating_capacity):\n",
    "        super().__init__(name, max_speed, average_speed)\n",
    "        self.seating_capacity = seating_capacity\n",
    "\n",
    "    def seat(self):\n",
    "        print('The seating_capacity in the',self.name, 'is',self.seating_capacity)\n",
    "\n",
    "# Create an instance of the parent class\n",
    "s1 = vehicle(\"Mahindra\", 80, 50)\n",
    "s1.vehi_descr()\n",
    "# Create an instance of the child class\n",
    "d1 = seat_capacity(\"Mahindra Thar\", 80, 50, 5)\n",
    "d1.seat()\n",
    "\n"
   ]
  },
  {
   "cell_type": "markdown",
   "id": "9639d85b-6a62-428f-a4e9-16dfbf34e654",
   "metadata": {},
   "source": [
    "Q3. What is multiple inheritance? Write a python code to demonstrate multiple inheritance.\n",
    "Multiple inheritance is a feature in object-oriented programming languages that allows a class to inherit from multiple parent classes. In Python, you can implement multiple inheritance by including multiple parent classes in the parentheses after the class name."
   ]
  },
  {
   "cell_type": "code",
   "execution_count": null,
   "id": "3d3d5ce1-f0a9-402b-bec5-3a3ee8956c87",
   "metadata": {},
   "outputs": [],
   "source": []
  },
  {
   "cell_type": "code",
   "execution_count": 3,
   "id": "bf98f0e8-f171-42ab-95b4-27bfb383bd45",
   "metadata": {},
   "outputs": [
    {
     "name": "stdout",
     "output_type": "stream",
     "text": [
      "Equal side 3\n",
      "Equal angle : 180\n"
     ]
    }
   ],
   "source": [
    "# Define the parent classes\n",
    "class triangle:\n",
    "    def __init__(self):\n",
    "        self.side = 3\n",
    "        self.angle = 180\n",
    "\n",
    "class equ_triangle:\n",
    "    def __init__(self):\n",
    "        self.side = \"equal side\"\n",
    "        self.angle = \"equal angle\"\n",
    "\n",
    "# Define the child class\n",
    "class Triangle(triangle, equ_triangle):\n",
    "    def __init__(self):\n",
    "        super().__init__()\n",
    "\n",
    "# Create an instance of the child class\n",
    "T = Triangle()\n",
    "\n",
    "# Print the child's attributes\n",
    "print(\"Equal side\", T.side)   # Output: Eye color: brown\n",
    "print(\"Equal angle :\", T.angle) # Output: Hair color: black\n"
   ]
  },
  {
   "cell_type": "markdown",
   "id": "a557d0d5-7633-4007-a1b9-65b668e0ecee",
   "metadata": {},
   "source": [
    "Q4. What are getter and setter in python? Create a class and create a getter and a setter method in this\n",
    "class.\n",
    "Answer - Getter and setter method is used in mainly in data encapsulation.\n",
    "Getter: A method that allows you to access an attribute in a given class\n",
    "Setter: A method that allows you to set or mutate the value of an attribute in a class"
   ]
  },
  {
   "cell_type": "code",
   "execution_count": 12,
   "id": "476b9720-30fd-4966-a3b1-f4f71f586b3f",
   "metadata": {},
   "outputs": [
    {
     "data": {
      "text/plain": [
       "'Rohit'"
      ]
     },
     "execution_count": 12,
     "metadata": {},
     "output_type": "execute_result"
    }
   ],
   "source": [
    "# example of of getter and setter method.\n",
    "class student:\n",
    "    def __init__(self,name, age, address, mob_no, course):\n",
    "        self.__name = name\n",
    "        self.__age = age\n",
    "        self.__address = address\n",
    "        self.__mob_no = mob_no\n",
    "        self.__course = course\n",
    "    def set_name(self, name):\n",
    "        self.__name = name\n",
    "    def get_course(self):\n",
    "        return self.__course\n",
    "        \n",
    "t2 = student('siddhant', 29, 'samir takya', '78903456', 'data_science')\n",
    "t2.set_name('Rohit')\n",
    "\n",
    "t2._student__name\n",
    "\n",
    "\n"
   ]
  },
  {
   "cell_type": "code",
   "execution_count": 11,
   "id": "1a96500a-c9d0-494c-be30-e4e062a8dafd",
   "metadata": {},
   "outputs": [
    {
     "data": {
      "text/plain": [
       "'data_science'"
      ]
     },
     "execution_count": 11,
     "metadata": {},
     "output_type": "execute_result"
    }
   ],
   "source": [
    "t2.get_course()"
   ]
  },
  {
   "cell_type": "markdown",
   "id": "f2a026c7-8082-4e95-a8fc-8173ee632dfe",
   "metadata": {},
   "source": [
    "Q5.What is method overriding in python? Write a python code to demonstrate method overriding.\n",
    "\n",
    "Answer --Method overriding in Python is when you have two methods with the same name that each perform different tasks. This is an important feature of inheritance in Python.\n",
    "\n",
    "In method overriding, the child class can change its functions that are defined by its ancestral classes. In other words, the child class has access to the properties and functions of the parent class method while also extending additional functions of its own to the method. If a method in a superclass coincides with that of a subclass, then the subclass is said to override the superclass. "
   ]
  },
  {
   "cell_type": "code",
   "execution_count": 23,
   "id": "e594c7ef-1446-41c0-8659-7d288da20024",
   "metadata": {},
   "outputs": [
    {
     "name": "stdout",
     "output_type": "stream",
     "text": [
      "This is a bus\n",
      "The bus has 45\n"
     ]
    }
   ],
   "source": [
    "# Create a method overriding \\\n",
    "class vehicle:\n",
    "    def __init__(self, name):\n",
    "        self.name = name\n",
    "        \n",
    "        print('This is a', self.name)\n",
    "class seat(vehicle):\n",
    "    def __init__(self,name,seat):\n",
    "        super().__init__(name)\n",
    "        self.seat = seat\n",
    "        print('The', self.name, 'has', self.seat)\n",
    "\n",
    "a2 = seat('bus',45)\n"
   ]
  },
  {
   "cell_type": "code",
   "execution_count": null,
   "id": "3ae9c74a-703c-4aa5-a45b-c350c5bbea8c",
   "metadata": {},
   "outputs": [],
   "source": []
  },
  {
   "cell_type": "code",
   "execution_count": null,
   "id": "94abb968-613d-48e5-848a-792902e3a0b6",
   "metadata": {},
   "outputs": [],
   "source": []
  },
  {
   "cell_type": "code",
   "execution_count": null,
   "id": "d7aa4449-9602-4cdb-a059-d5abb2f5252c",
   "metadata": {},
   "outputs": [],
   "source": []
  },
  {
   "cell_type": "code",
   "execution_count": null,
   "id": "9180cff2-19e6-42cb-8671-1cb6a0b5855b",
   "metadata": {},
   "outputs": [],
   "source": []
  }
 ],
 "metadata": {
  "kernelspec": {
   "display_name": "Python 3 (ipykernel)",
   "language": "python",
   "name": "python3"
  },
  "language_info": {
   "codemirror_mode": {
    "name": "ipython",
    "version": 3
   },
   "file_extension": ".py",
   "mimetype": "text/x-python",
   "name": "python",
   "nbconvert_exporter": "python",
   "pygments_lexer": "ipython3",
   "version": "3.10.8"
  }
 },
 "nbformat": 4,
 "nbformat_minor": 5
}
